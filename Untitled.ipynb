{
 "cells": [
  {
   "cell_type": "code",
   "execution_count": 1,
   "metadata": {
    "collapsed": true
   },
   "outputs": [],
   "source": [
    "import pandas as pd\n",
    "from pymerkle import *  \n",
    "from hashlib import sha256\n",
    "from PIL import Image, ImageDraw, ImageFont\n",
    "import qrcode\n",
    "import cv2 as cv\n",
    "import datetime\n",
    "from pyzbar.pyzbar import decode\n",
    "from pymongo import MongoClient\n",
    "client = MongoClient()\n",
    "db = client.blockchain_database.certificates\n",
    "blockchain_db = client.blockchain_database.blocks"
   ]
  },
  {
   "cell_type": "code",
   "execution_count": 21,
   "metadata": {},
   "outputs": [
    {
     "data": {
      "text/plain": [
       "8"
      ]
     },
     "execution_count": 21,
     "metadata": {},
     "output_type": "execute_result"
    }
   ],
   "source": [
    "df = pd.read_excel('Students.xlsx')\n",
    "len(df)"
   ]
  },
  {
   "cell_type": "code",
   "execution_count": 5,
   "metadata": {},
   "outputs": [
    {
     "data": {
      "text/plain": [
       "'98934dde04fd10882e5a6a1fbd02816134fc79b1ab741ec0027c867bf0bcd371'"
      ]
     },
     "execution_count": 5,
     "metadata": {},
     "output_type": "execute_result"
    }
   ],
   "source": [
    "# ['John Doe', '17/52HA001', 'Computer Science', '2021']\n",
    "# ['Jane Doe', '17/52HA002', 'Computer Science', '2021']\n",
    "# ['Jim Doe', '17/52HA003', 'Computer Science', '2021']\n",
    "# ['Juliet Doe', '17/52HA004', 'Computer Science', '2021']\n",
    "# ['Tim Cook', '17/52HA005', 'Computer Science', '2021']\n",
    "# ['Tom Hanks', '17/52HA006', 'Computer Science', '2021']\n",
    "# ['Amy Tyler', '17/52HA007', 'Computer Science', '2021']\n",
    "# ['Rob Banks', '17/52HA008', 'Computer Science', '2021']\n",
    "a = a = \"+\".join(['Rob Banks', '17/52HA008', 'Computer Science', '2021'])\n",
    "sha256(a.encode()).hexdigest()"
   ]
  },
  {
   "cell_type": "code",
   "execution_count": 2,
   "metadata": {
    "collapsed": true
   },
   "outputs": [],
   "source": [
    "import xlsxwriter\n",
    "\n",
    "# Create a workbook and add a worksheet.\n",
    "workbook = xlsxwriter.Workbook('Students2.xlsx')\n",
    "worksheet = workbook.add_worksheet()\n",
    "\n",
    "# Some data we want to write to the worksheet.\n",
    "expenses = (\n",
    "    ['Name', 'Matric No', 'Department', 'Year'],\n",
    "    ['Adedokun Praise', '17/52HA001', 'Computer Science', '2021'],\n",
    "    ['David Gentry',   '17/52HA002', 'Computer Science', '2021'],\n",
    "    ['Steven Ramos',  '17/52HA003', 'Computer Science', '2021'],\n",
    "    ['Amber Lopez', '17/52HA004', 'Computer Science', '2021'],\n",
    "    ['John Newsome', '17/52HA005', 'Computer Science', '2021'],\n",
    "    ['Tom Hanks',   '17/52HA006', 'Computer Science', '2021'],\n",
    "    ['Amy Tyler',  '17/52HA007', 'Computer Science', '2021'],\n",
    "    ['Rob Banks', '17/52HA008', 'Computer Science', '2021'],\n",
    "    ['Patrick Jones', '17/52HA009', 'Computer Science', '2021'],\n",
    "    ['Piper Jane',   '17/52HA010', 'Computer Science', '2021'],\n",
    "    ['Tom Ford',  '17/52HA011', 'Computer Science', '2021'],\n",
    "    ['Juliet Doe', '17/52HA012', 'Computer Science', '2021'],\n",
    "    ['Rob Hanks', '17/52HA013', 'Computer Science', '2021'],\n",
    "    ['Tom Cooks',   '17/52HA014', 'Computer Science', '2021'],\n",
    "    ['Bree Tyler',  '17/52HA015', 'Computer Science', '2021'],\n",
    "    ['James Banks', '17/52HA016', 'Computer Science', '2021'],\n",
    "    ['John Timothy', '17/52HA017', 'Computer Science', '2021'],\n",
    "    ['Jane Cooper',   '17/52HA018', 'Computer Science', '2021'],\n",
    "    ['Sheldon Caty',  '17/52HA019', 'Computer Science', '2021'],\n",
    "    ['Juliet Cooper', '17/52HA020', 'Computer Science', '2021'],\n",
    "    ['Amy Cooper', '17/52HA021', 'Computer Science', '2021'],\n",
    "    ['Tom Leonard',   '17/52HA022', 'Computer Science', '2021'],\n",
    "    ['Howard Tyler',  '17/52HA023', 'Computer Science', '2021'],\n",
    "    ['Jim Banks', '17/52HA024', 'Computer Science', '2021'],\n",
    "    ['Jake Dike', '17/52HA025', 'Computer Science', '2021'],\n",
    "    ['Jane Calvary',   '17/52HA026', 'Computer Science', '2021'],\n",
    "    ['John Jones',  '17/52HA027', 'Computer Science', '2021'],\n",
    "    ['Juliet Cartrt', '17/52HA028', 'Computer Science', '2021'],\n",
    "    ['Dwayne Carter', '17/52HA029', 'Computer Science', '2021'],\n",
    "    ['Shawn Hanks',   '17/52HA030', 'Computer Science', '2021'],\n",
    "    ['Amy Carter',  '17/52HA031', 'Computer Science', '2021'],\n",
    "    ['Carter Deems', '17/52HA032', 'Computer Science', '2021'],\n",
    "    ['Nick Fury', '17/52HA033', 'Computer Science', '2021'],\n",
    "    ['Dame Stark',   '17/52HA034', 'Computer Science', '2021'],\n",
    "    ['Peter Parker',  '17/52HA035', 'Computer Science', '2021'],\n",
    "    ['Juliet Cox', '17/52HA036', 'Computer Science', '2021'],\n",
    "    ['Dewey Carter', '17/52HA037', 'Computer Science', '2021'],\n",
    "    ['Tom Jakes',   '17/52HA038', 'Computer Science', '2021'],\n",
    "    ['Mia Tyler',  '17/52HA039', 'Computer Science', '2021'],\n",
    "    ['Mai Banks', '17/52HA040', 'Computer Science', '2021'],\n",
    "    ['Jimmy Fowler', '17/52HA041', 'Computer Science', '2021'],\n",
    "    ['Harry Kane',   '17/52HA042', 'Computer Science', '2021'],\n",
    "    ['Anthony Claw',  '17/52HA043', 'Computer Science', '2021'],\n",
    "    ['Jake Doe', '17/52HA044', 'Computer Science', '2021'],\n",
    "    ['Oliver Cook', '17/52HA045', 'Computer Science', '2021'],\n",
    "    ['Stormi Shane',   '17/52HA046', 'Computer Science', '2021'],\n",
    "    ['Curt Cobain',  '17/52HA047', 'Computer Science', '2021'],\n",
    "    ['Ray Davidson', '17/52HA048', 'Computer Science', '2021'],\n",
    "    ['Mike Manchester', '17/52HA049', 'Computer Science', '2021'],\n",
    "    ['Henry Moon',   '17/52HA050', 'Computer Science', '2021'],\n",
    "    ['Krew Kaniff',  '17/52HA051', 'Computer Science', '2021'],\n",
    "    ['Ken Sailor',  '17/52HA052', 'Computer Science', '2021'],\n",
    "    ['Junior Doe', '17/52HA053', 'Computer Science', '2021'],\n",
    "    ['Ryan Bing',   '17/52HA054', 'Computer Science', '2021'],\n",
    "    ['Sarah Bing',  '17/52HA055', 'Computer Science', '2021'],\n",
    "    ['Rob Mina', '17/52HA056', 'Computer Science', '2021'],\n",
    "    ['Elda Palumbo', '17/52HA057', 'Computer Science', '2021'],\n",
    "    ['Pacifico Giordano',   '17/52HA058', 'Computer Science', '2021'],\n",
    "    ['Yago Amato',  '17/52HA059', 'Computer Science', '2021'],\n",
    "    ['Eustachio Messina', '17/52HA060', 'Computer Science', '2021'],\n",
    "    ['Costanzo Costa',   '17/52HA061', 'Computer Science', '2021'],\n",
    "    ['Nazzareno Barbieri',  '17/52HA062', 'Computer Science', '2021'],\n",
    "    ['Max Coppola', '17/52HA063', 'Computer Science', '2021'],\n",
    "    ['Leslie Moreno', '17/52HA064', 'Computer Science', '2021'],\n",
    "    ['Ashley Castillo',   '17/52HA065', 'Computer Science', '2021'],\n",
    "    ['Kristen Turner',  '17/52HA066', 'Computer Science', '2021'],\n",
    "    ['Juliet Doe', '17/52HA067', 'Computer Science', '2021'],\n",
    "    ['Marcantonio Galuppi', '17/52HA068', 'Computer Science', '2021'],\n",
    "    ['Emma Williams',   '17/52HA069', 'Computer Science', '2021'],\n",
    "    ['Martha Davis',  '17/52HA070', 'Computer Science', '2021'],\n",
    "    ['Emma Banks', '17/52HA071', 'Computer Science', '2021'],\n",
    "    ['Ashley Doe', '17/52HA072', 'Computer Science', '2021'],\n",
    "    ['Emma Winks',   '17/52HA073', 'Computer Science', '2021'],\n",
    "    ['Margaret Boehm',  '17/52HA074', 'Computer Science', '2021'],\n",
    "    ['Juliet Gullapari', '17/52HA075', 'Computer Science', '2021'],\n",
    "    ['Tim Turner', '17/52HA076', 'Computer Science', '2021'],\n",
    "    ['Thomas Davison',   '17/52HA077', 'Computer Science', '2021'],\n",
    "    ['Tony Stark',  '17/52HA078', 'Computer Science', '2021'],\n",
    "    ['Bruce Banks', '17/52HA079', 'Computer Science', '2021'],\n",
    "    ['Wayne Doe', '17/52HA080', 'Computer Science', '2021'],\n",
    "    ['Courtney Kingsley',   '17/52HA081', 'Computer Science', '2021'],\n",
    "    ['Jim Fallon',  '17/52HA082', 'Computer Science', '2021'],\n",
    "    ['Johnatan Doe', '17/52HA083', 'Computer Science', '2021'],\n",
    "    ['Ahmed Rice', '17/52HA084', 'Computer Science', '2021'],\n",
    "    ['Avery Tinks',   '17/52HA085', 'Computer Science', '2021'],\n",
    "    ['Ace Chad',  '17/52HA086', 'Computer Science', '2021'],\n",
    "    ['Bree Bella', '17/52HA087', 'Computer Science', '2021'],\n",
    "    ['Maya Daniels', '17/52HA088', 'Computer Science', '2021'],\n",
    "    ['Leonard Thing',   '17/52HA089', 'Computer Science', '2021'],\n",
    "    ['Howard Keith',  '17/52HA090', 'Computer Science', '2021'],\n",
    "    ['Juliet Bella', '17/52HA091', 'Computer Science', '2021'],\n",
    "    ['Ace Chase', '17/52HA092', 'Computer Science', '2021'],\n",
    "    ['King Robinson',   '17/52HA093', 'Computer Science', '2021'],\n",
    "    ['Judith Tyler',  '17/52HA094', 'Computer Science', '2021'],\n",
    "    ['Phoebe Banks', '17/52HA095', 'Computer Science', '2021'],\n",
    "    ['Channing Doe', '17/52HA096', 'Computer Science', '2021'],\n",
    "    ['Ilumi Docks',   '17/52HA097', 'Computer Science', '2021'],\n",
    "    ['Sam Tent',  '17/52HA098', 'Computer Science', '2021'],\n",
    "    ['Brook Tent', '17/52HA099', 'Computer Science', '2021'],\n",
    "    ['Dennis Cook', '17/52HA100', 'Computer Science', '2021'],\n",
    ")\n",
    "\n",
    "# Start from the first cell. Rows and columns are zero indexed.\n",
    "row = 0\n",
    "col = 0\n",
    "\n",
    "# Iterate over the data and write it out row by row.\n",
    "for item, cost, c,v in (expenses):\n",
    "    worksheet.write(row, col,     item)\n",
    "    worksheet.write(row, col + 1, cost)\n",
    "    worksheet.write(row, col + 2, c)\n",
    "    worksheet.write(row, col + 3, str(v))\n",
    "    row += 1\n",
    "\n",
    "\n",
    "workbook.close()\n",
    "\n",
    "# with open('structure', 'w') as f:\n",
    "#     f.write(mtree.__repr__())\n",
    "# mtree.export(str(mtree.get_commitment()) + '.json')\n",
    "# print(mtree)"
   ]
  },
  {
   "cell_type": "code",
   "execution_count": 13,
   "metadata": {
    "collapsed": true
   },
   "outputs": [],
   "source": [
    "img = Image.open('Certificate_template.png')\n",
    "qr = qrcode.QRCode(box_size=1)\n",
    "qr.add_data('8824836de2f2d45f00bac5f1d8a76186dd002ea0120ec2df155a16a39a7b24bc', optimize=0)\n",
    "qr.make()\n",
    "test = qr.make_image(fill_color=\"black\", back_color=\"white\").convert('RGB')\n",
    "\n",
    "img.paste(test, (355,500))\n",
    "\n",
    "I1 = ImageDraw.Draw(img)\n",
    "c = ['John Doe', '17/52HA001', 'Computer Science', '2021']\n",
    "font = ImageFont.truetype('font.ttf', 30)\n",
    "I1.text((300, 160), c[0], font=font,  fill=(0, 0, 0))\n",
    "I1.text((288, 256), c[1], font=font,  fill=(0, 0, 0))\n",
    "I1.text((240, 345), c[2], font=font,  fill=(0, 0, 0))\n",
    "I1.text((342, 425), str(c[3]), font=font,  fill=(0, 0, 0))\n",
    "\n",
    "img.save(c[0] + '.png')"
   ]
  },
  {
   "cell_type": "code",
   "execution_count": 17,
   "metadata": {},
   "outputs": [
    {
     "name": "stdout",
     "output_type": "stream",
     "text": [
      "45\n",
      "44\n",
      "43\n",
      "42\n",
      "41\n",
      "40\n",
      "39\n",
      "38\n",
      "37\n",
      "36\n",
      "35\n",
      "34\n",
      "33\n",
      "32\n",
      "31\n",
      "30\n",
      "29\n",
      "28\n",
      "27\n",
      "26\n",
      "25\n",
      "24\n",
      "23\n",
      "22\n",
      "21\n",
      "20\n",
      "19\n",
      "18\n",
      "17\n",
      "16\n",
      "15\n",
      "14\n",
      "13\n",
      "12\n",
      "11\n",
      "10\n",
      "9\n",
      "8\n",
      "7\n",
      "6\n",
      "5\n",
      "4\n",
      "3\n",
      "2\n",
      "1\n",
      "0\n"
     ]
    }
   ],
   "source": [
    "rem = len(df)\n",
    "for i in range(len(df)):\n",
    "    rem -= 1\n",
    "    print(rem)"
   ]
  },
  {
   "cell_type": "code",
   "execution_count": 27,
   "metadata": {},
   "outputs": [
    {
     "name": "stdout",
     "output_type": "stream",
     "text": [
      "[['John Doe', '17/52HA001', 'Computer Science', '2021'], ['Jane Doe', '17/52HA002', 'Computer Science', '2021'], ['Jim Doe', '17/52HA003', 'Computer Science', '2021'], ['Juliet Doe', '17/52HA004', 'Computer Science', '2021'], ['Tim Cook', '17/52HA005', 'Computer Science', '2021'], ['Tom Hanks', '17/52HA006', 'Computer Science', '2021'], ['Amy Tyler', '17/52HA007', 'Computer Science', '2021'], ['Rob Banks', '17/52HA008', 'Computer Science', '2021']]\n"
     ]
    }
   ],
   "source": [
    "z = []\n",
    "arr = []\n",
    "rem = len(df)\n",
    "for i in range(len(df)):\n",
    "    rem -= 1 \n",
    "    for j in range(len(list(df))):\n",
    "        z.append(df.iloc[i,j])\n",
    "    c = z\n",
    "    z = []\n",
    "    c[3] = str(c[3])\n",
    "    \n",
    "    if len(arr) < 10:\n",
    "        arr.append(c)\n",
    "#         print(arr)\n",
    "    else:\n",
    "#         print(arr)\n",
    "        arr = []\n",
    "        arr.append(c)\n",
    "    if len(arr) == 10:\n",
    "        print(\"a\")\n",
    "# print(rem)\n",
    "if rem < 1:\n",
    "    print(arr)"
   ]
  },
  {
   "cell_type": "code",
   "execution_count": 24,
   "metadata": {},
   "outputs": [
    {
     "name": "stdout",
     "output_type": "stream",
     "text": [
      "\n",
      "\n",
      "\n",
      "\n",
      "\n",
      "\n",
      "\n",
      "\n",
      "\n",
      "\n",
      "\n",
      "\n",
      "\n",
      "\n",
      "\n",
      "\n",
      "\n",
      "\n",
      "\n",
      "\n",
      "\n",
      "\n",
      "\n",
      "\n",
      "\n",
      "\n",
      "\n",
      "\n",
      "\n",
      "\n",
      "\n",
      "\n",
      "\n",
      "\n",
      "\n",
      "\n",
      "\n",
      "\n",
      "\n",
      "\n",
      "\n",
      "\n",
      "\n",
      "\n",
      "\n",
      "\n",
      "\n",
      "\n",
      "\n",
      "\n",
      "\n",
      "\n",
      "\n",
      "\n",
      "\n",
      "\n",
      "\n",
      "\n",
      "\n",
      "\n",
      "\n",
      "\n",
      "\n",
      "\n",
      "\n",
      "\n",
      "\n",
      "\n",
      "\n",
      "\n",
      "\n",
      "\n",
      "\n",
      "\n",
      "\n",
      "\n",
      "\n",
      "\n",
      "\n",
      "\n",
      "\n",
      "\n",
      "\n",
      "\n",
      "\n",
      "\n",
      "\n",
      "\n",
      "\n",
      "\n",
      "\n",
      "\n",
      "\n",
      "\n",
      "\n",
      "\n",
      "['Phoebe Banks', '17/52HA095', 'Computer Science', '2021']\n",
      "['Channing Doe', '17/52HA096', 'Computer Science', '2021']\n",
      "['Ilumi Docks', '17/52HA097', 'Computer Science', '2021']\n",
      "['Sam Tent', '17/52HA098', 'Computer Science', '2021']\n",
      "['Brook Tent', '17/52HA099', 'Computer Science', '2021']\n",
      "['Dennis Cook', '17/52HA0100', 'Computer Science', '2021']\n"
     ]
    }
   ],
   "source": [
    "z = []\n",
    "arr = []\n",
    "rem = len(df)\n",
    "for i in range(len(df)):\n",
    "    rem -= 1 \n",
    "    for j in range(len(list(df))):\n",
    "        z.append(df.iloc[i,j])\n",
    "    c = z\n",
    "    z = []\n",
    "    c[3] = str(c[3])\n",
    "    a = \"+\".join(c)\n",
    "\n",
    "    a_hash = sha256(a.encode()).hexdigest()\n",
    "    \n",
    "#     print(c)\n",
    "    if len(arr) < 10:\n",
    "        arr.append(c)\n",
    "    else:\n",
    "#         print(arr)\n",
    "        arr = []\n",
    "        arr.append(c)\n",
    "    if len(arr) == 10:\n",
    "        Mktree = MerkleTree(security=False, raw_bytes=False)\n",
    "        for a in arr:\n",
    "            a[3] = str(a[3])\n",
    "            ar = \"+\".join(a)\n",
    "            ar_hash = sha256(ar.encode()).hexdigest()\n",
    "            newuser = ({\n",
    "                \"name\": a[0],\n",
    "                \"Matric No\": a[1],\n",
    "                \"Course\": a[2],\n",
    "                \"Year\": a[3],\n",
    "                \"Hash\": ar_hash\n",
    "            })\n",
    "            db.insert_one(newuser)\n",
    "            Mktree.encryptRecord(ar)\n",
    "        for a in arr:\n",
    "            print('')\n",
    "#             img = Image.open('Cert_template.png')\n",
    "#             qr = qrcode.QRCode(box_size=2)\n",
    "#             qr.add_data([str(ar_hash),Mktree.get_commitment().decode(\"utf-8\")], optimize=0)\n",
    "#             qr.make()\n",
    "#             test = qr.make_image(fill_color=\"black\", back_color=\"white\").convert('RGB')\n",
    "\n",
    "#             img.paste(test, (330,460))\n",
    "\n",
    "#             I1 = ImageDraw.Draw(img)\n",
    "#             font = ImageFont.truetype('font.ttf', 30)\n",
    "#             I1.text((288, 156), a[0], font=font,  fill=(0, 0, 0))\n",
    "#             I1.text((288, 246), a[1], font=font,  fill=(0, 0, 0))\n",
    "#             I1.text((268, 326), a[2], font=font,  fill=(0, 0, 0))\n",
    "#             I1.text((348, 416), a[3], font=font,  fill=(0, 0, 0))\n",
    "\n",
    "#             img.save('uploads/certs/' + a[0] + '.png')\n",
    "        timestamp = datetime.datetime.now()\n",
    "\n",
    "        if(blockchain_db.count_documents({})>0):\n",
    "            Block = blockchain_db.find().sort('_id',-1).limit(1)\n",
    "            for b in Block:\n",
    "                previous_hash = b[\"root_hash\"]\n",
    "        else:\n",
    "            previous_hash = \"None\"\n",
    "        root_hash = Mktree.get_commitment().decode(\"utf-8\")\n",
    "        block = ({\n",
    "            \"timestamp\" : timestamp,\n",
    "            \"previous_hash\" : previous_hash,\n",
    "            \"root_hash\" : root_hash\n",
    "        })\n",
    "        blockchain_db.insert_one(block)\n",
    "#         with open('structure', 'w') as f:\n",
    "#             f.write(Mktree.__repr__())\n",
    "#         Mktree.export('uploads/trees/' + Mktree.get_commitment().decode(\"utf-8\") + '.json')\n",
    "if rem < 6:\n",
    "    Mktree = MerkleTree(security=False, raw_bytes=False)\n",
    "    for a in arr:\n",
    "        print(a)\n",
    "        a[3] = str(a[3])\n",
    "        ar = \"+\".join(a)\n",
    "        ar_hash = sha256(ar.encode()).hexdigest()\n",
    "        newuser = ({\n",
    "                \"name\": a[0],\n",
    "                \"Matric No\": a[1],\n",
    "                \"Course\": a[2],\n",
    "                \"Year\": a[3],\n",
    "                \"Hash\": ar_hash\n",
    "        })\n",
    "#         db.insert_one(newuser)\n",
    "        Mktree.encryptRecord(ar)\n",
    "#         img = Image.open('Cert_template.png')\n",
    "#         qr = qrcode.QRCode(box_size=2)\n",
    "#         qr.add_data([str(ar_hash),Mktree.get_commitment().decode(\"utf-8\")], optimize=0)\n",
    "#         qr.make()\n",
    "#         test = qr.make_image(fill_color=\"black\", back_color=\"white\").convert('RGB')\n",
    "\n",
    "#         img.paste(test, (330,460))\n",
    "\n",
    "#         I1 = ImageDraw.Draw(img)\n",
    "#         font = ImageFont.truetype('font.ttf', 30)\n",
    "#         I1.text((288, 156), a[0], font=font,  fill=(0, 0, 0))\n",
    "#         I1.text((288, 246), a[1], font=font,  fill=(0, 0, 0))\n",
    "#         I1.text((268, 326), a[2], font=font,  fill=(0, 0, 0))\n",
    "#         I1.text((348, 416), a[3], font=font,  fill=(0, 0, 0))\n",
    "\n",
    "#         img.save('uploads/certs/' + a[0] + '.png')\n",
    "    timestamp = datetime.datetime.now()\n",
    "    \n",
    "    if(blockchain_db.count_documents({})>0):\n",
    "        Block = blockchain_db.find().sort('_id',-1).limit(1)\n",
    "        for b in Block:\n",
    "            previous_hash = b[\"root_hash\"]\n",
    "    else:\n",
    "        previous_hash = \"None\"\n",
    "    root_hash = Mktree.get_commitment().decode(\"utf-8\")\n",
    "    block = ({\n",
    "        \"timestamp\" : timestamp,\n",
    "        \"previous_hash\" : previous_hash,\n",
    "        \"root_hash\" : root_hash\n",
    "    })\n",
    "    blockchain_db.insert_one(block)\n",
    "#     with open('structure', 'w') as f:\n",
    "#             f.write(Mktree.__repr__())\n",
    "#     Mktree.export('uploads/trees/' + Mktree.get_commitment().decode(\"utf-8\") + '.json')\n",
    "#     print(Mktree)"
   ]
  },
  {
   "cell_type": "code",
   "execution_count": 23,
   "metadata": {},
   "outputs": [
    {
     "name": "stdout",
     "output_type": "stream",
     "text": [
      "9d2f1807e8c0130b96b662335cf4356ad85b2d90c706c2b4e7504c04ed8d2218\n"
     ]
    }
   ],
   "source": [
    "v = blockchain_db.find().sort('_id',-1).limit(1)\n",
    "for i in v:\n",
    "    print(i[\"root_hash\"])"
   ]
  },
  {
   "cell_type": "code",
   "execution_count": 32,
   "metadata": {},
   "outputs": [
    {
     "name": "stdout",
     "output_type": "stream",
     "text": [
      "98934dde04fd10882e5a6a1fbd02816134fc79b1ab741ec0027c867bf0bcd371\n",
      "['98934dde04fd10882e5a6a1fbd02816134fc79b1ab741ec0027c867bf0bcd371', '9d2f1807e8c0130b96b662335cf4356ad85b2d90c706c2b4e7504c04ed8d2218']\n",
      "\n",
      "File has been loaded\n"
     ]
    },
    {
     "name": "stderr",
     "output_type": "stream",
     "text": [
      "Retrieving tree...: 100%|███████████████████████████████████████████████████████████████| 8/8 [00:00<00:00, 117.24it/s]\n"
     ]
    },
    {
     "name": "stdout",
     "output_type": "stream",
     "text": [
      "Tree has been retrieved\n",
      "{'_id': ObjectId('61d843458f237ade9904216c'), 'name': 'Rob Banks', 'Matric No': '17/52HA008', 'Course': 'Computer Science', 'Year': '2021', 'Hash': '98934dde04fd10882e5a6a1fbd02816134fc79b1ab741ec0027c867bf0bcd371'}\n"
     ]
    }
   ],
   "source": [
    "decocdeQR = decode(Image.open('uploads/certs/1752HA008.png'))\n",
    "decodedCert = decocdeQR[0].data.decode('ascii')\n",
    "certhash = decodedCert[2:66]\n",
    "roothash = decodedCert[70:134]\n",
    "print(certhash)\n",
    "print(decodedCert)\n",
    "if(blockchain_db.count_documents({'root_hash' : roothash})):\n",
    "    loaded_tree = MerkleTree.loadFromFile('uploads/trees/' +roothash + '.json')\n",
    "    challenge = {'checksum' : certhash         }\n",
    "    merkle_proof = loaded_tree.merkleProof(challenge)\n",
    "\n",
    "    if(validateProof(merkle_proof)):\n",
    "        for i in db.find({'Hash': certhash}):\n",
    "            print(i)\n",
    "    "
   ]
  },
  {
   "cell_type": "code",
   "execution_count": 20,
   "metadata": {},
   "outputs": [
    {
     "name": "stdout",
     "output_type": "stream",
     "text": [
      "\n",
      "File has been loaded\n"
     ]
    },
    {
     "name": "stderr",
     "output_type": "stream",
     "text": [
      "Retrieving tree...: 100%|██████████████████████████████████████████████████████████████| 8/8 [00:00<00:00, 8021.62it/s]"
     ]
    },
    {
     "name": "stdout",
     "output_type": "stream",
     "text": [
      "Tree has been retrieved\n"
     ]
    },
    {
     "name": "stderr",
     "output_type": "stream",
     "text": [
      "\n"
     ]
    },
    {
     "data": {
      "text/plain": [
       "True"
      ]
     },
     "execution_count": 20,
     "metadata": {},
     "output_type": "execute_result"
    }
   ],
   "source": [
    "loaded_tree = MerkleTree.loadFromFile(\"9d2f1807e8c0130b96b662335cf4356ad85b2d90c706c2b4e7504c04ed8d2218.json\")\n",
    "challenge = {\n",
    "                'checksum' : '98934dde04fd10882e5a6a1fbd02816134fc79b1ab741ec0027c867bf0bcd371'\n",
    "            }\n",
    "merkle_proof = loaded_tree.merkleProof(challenge)\n",
    "\n",
    "validateProof(merkle_proof)"
   ]
  },
  {
   "cell_type": "code",
   "execution_count": 28,
   "metadata": {},
   "outputs": [
    {
     "data": {
      "text/plain": [
       "True"
      ]
     },
     "execution_count": 28,
     "metadata": {},
     "output_type": "execute_result"
    }
   ],
   "source": [
    "challenge = {\n",
    "                'checksum' : '98934dde04fd10882e5a6a1fbd02816134fc79b1ab741ec0027c867bf0bcd371'\n",
    "            }\n",
    "merkle_proof = mtree.merkleProof(challenge)\n",
    "\n",
    "validateProof(merkle_proof)"
   ]
  },
  {
   "cell_type": "code",
   "execution_count": 44,
   "metadata": {},
   "outputs": [
    {
     "data": {
      "text/plain": [
       "True"
      ]
     },
     "execution_count": 44,
     "metadata": {},
     "output_type": "execute_result"
    }
   ],
   "source": [
    "from pymerkle import *           # Import MerkleTree, validateProof\n",
    "                                 # and ProofValidator\n",
    "tree = MerkleTree(security=False)              # Create empty SHA256/UTF-8 Merkle-tree with\n",
    "                                 # defense against second-preimage attack\n",
    "validator = Validator()     # Create object for validating proofs\n",
    "\n",
    "# Successively update the tree with one hundred records\n",
    "tree.encryptRecord(b'first')\n",
    "tree.encryptRecord(b'second')\n",
    "challenge = {\n",
    "                'checksum': 'a7937b64b8caa58f03721bb6bacf5c78cb235febe0e70b1b84cd99541461a08e'\n",
    "            }\n",
    "\n",
    "merkle_proof = tree.merkleProof(challenge)\n",
    "\n",
    "merkle_proof.__init__\n",
    "validateProof(merkle_proof)"
   ]
  },
  {
   "cell_type": "code",
   "execution_count": 36,
   "metadata": {},
   "outputs": [
    {
     "name": "stdout",
     "output_type": "stream",
     "text": [
      "\n",
      " └─80a05e3e369e65c8c67e9afb096ad0b778187e18ec241926ed88d6913c88ca35\n",
      "     ├──8824836de2f2d45f00bac5f1d8a76186dd002ea0120ec2df155a16a39a7b24bc\n",
      "     └──50a8377e4026dc9af9be18311d97b4a10e119b96c2713e15869d6c55086e9026\n",
      "\n",
      "8824836de2f2d45f00bac5f1d8a76186dd002ea0120ec2df155a16a39a7b24bc\n",
      "50a8377e4026dc9af9be18311d97b4a10e119b96c2713e15869d6c55086e9026\n"
     ]
    }
   ],
   "source": [
    "a = \"+\".join(['John Doe', '17/52HA001', 'Computer Science', '2021'])\n",
    "b = \"+\".join(['Jane Doe', '17/52HA002', 'Computer Science', '2021'])\n",
    "\n",
    "a_hash = sha256(a.encode()).hexdigest()\n",
    "b_hash = sha256(b.encode()).hexdigest()\n",
    "\n",
    "mtree =  MerkleTree(security=False)\n",
    "mtree.encryptRecord(a)\n",
    "mtree.encryptRecord(b)\n",
    "\n",
    "print(mtree)\n",
    "print(a_hash)\n",
    "print(b_hash)\n",
    "\n"
   ]
  },
  {
   "cell_type": "code",
   "execution_count": 43,
   "metadata": {
    "collapsed": true
   },
   "outputs": [],
   "source": [
    "import qrcode\n",
    "from PIL import Image\n",
    "\n",
    "qr = qrcode.QRCode(box_size=3,)\n",
    "qr.add_data([1223], optimize=0)\n",
    "# qr.add_data(['cc802c8bd7375cb96d640d4dfd97e579e4b20e7861d7ced82b40a9cef559e66d', '6e75e51a3a0f65b71c5063216e8b0acf2970f2e1e2036cb512e0ddb272c5417b'], optimize=0)\n",
    "qr.make()\n",
    "img = qr.make_image(fill_color=\"black\", back_color=\"white\").convert('RGB')\n",
    "\n",
    "test = Image.open('Cert_template.png')\n",
    "test.paste(img, (1,1))\n",
    "test.save(\"test1.png\")"
   ]
  },
  {
   "cell_type": "code",
   "execution_count": 53,
   "metadata": {},
   "outputs": [
    {
     "name": "stdout",
     "output_type": "stream",
     "text": [
      "[1223]\n"
     ]
    }
   ],
   "source": [
    "im = cv.imread('test1.png')\n",
    "det = cv.QRCodeDetector()\n",
    "retval, points, straight_qrcode = det.detectAndDecode(im)\n",
    "\n",
    "# print(list(retval))\n",
    "print(retval)"
   ]
  },
  {
   "cell_type": "code",
   "execution_count": 49,
   "metadata": {},
   "outputs": [
    {
     "data": {
      "text/plain": [
       "True"
      ]
     },
     "execution_count": 49,
     "metadata": {},
     "output_type": "execute_result"
    }
   ],
   "source": [
    "challenge = {\n",
    "                'checksum': retval\n",
    "            }\n",
    "\n",
    "merkle_proof = mtree.merkleProof(challenge)\n",
    "\n",
    "merkle_proof\n",
    "validateProof(merkle_proof)"
   ]
  },
  {
   "cell_type": "code",
   "execution_count": 2,
   "metadata": {
    "collapsed": true
   },
   "outputs": [],
   "source": [
    "def validateCert(roothash, certhash):\n",
    "    loaded_tree = MerkleTree.loadFromFile(roothash)\n",
    "    challenge = {\n",
    "                    'checksum' : certhash\n",
    "                }\n",
    "    merkle_proof = loaded_tree.merkleProof(challenge)\n",
    "\n",
    "    validateProof(merkle_proof)"
   ]
  },
  {
   "cell_type": "code",
   "execution_count": 6,
   "metadata": {
    "collapsed": true
   },
   "outputs": [],
   "source": [
    "def createCert(a):\n",
    "    a[3] = str(a[3])\n",
    "    ar = \"+\".join(a)\n",
    "    ar_hash = sha256(ar.encode()).hexdigest()\n",
    "    newuser = ({\n",
    "        \"name\": a[0],\n",
    "        \"Matric No\": a[1],\n",
    "        \"Course\": a[2],\n",
    "        \"Year\": a[3],\n",
    "        \"Hash\": ar_hash\n",
    "    })\n",
    "    db.insert_one(newuser)\n",
    "    Mktree.encryptRecord(ar)\n",
    "    img = Image.open('Cert_template.png')\n",
    "    qr = qrcode.QRCode(box_size=2)\n",
    "    qr.add_data([str(ar_hash), Mktree.get_commitment().decode(\"utf-8\")], optimize=0)\n",
    "    qr.make()\n",
    "    test = qr.make_image(fill_color=\"black\", back_color=\"white\").convert('RGB')\n",
    "\n",
    "    img.paste(test, (330, 460))\n",
    "\n",
    "    I1 = ImageDraw.Draw(img)\n",
    "    font = ImageFont.truetype('font.ttf', 30)\n",
    "    I1.text((288, 156), a[0], font=font, fill=(0, 0, 0))\n",
    "    I1.text((288, 246), a[1], font=font, fill=(0, 0, 0))\n",
    "    I1.text((268, 326), a[2], font=font, fill=(0, 0, 0))\n",
    "    I1.text((348, 416), a[3], font=font, fill=(0, 0, 0))\n",
    "\n",
    "    img.save('uploads/certs/' + a[0] + '.png')"
   ]
  },
  {
   "cell_type": "code",
   "execution_count": 14,
   "metadata": {},
   "outputs": [
    {
     "data": {
      "text/plain": [
       "'17/52HA001'"
      ]
     },
     "execution_count": 14,
     "metadata": {},
     "output_type": "execute_result"
    }
   ],
   "source": [
    "a = ['John Doe', '17/52HA001', 'Computer Science', '2021']\n",
    "a[1].replace('/','')\n",
    "a[1]"
   ]
  },
  {
   "cell_type": "code",
   "execution_count": 12,
   "metadata": {
    "collapsed": true
   },
   "outputs": [],
   "source": [
    "from pymongo import MongoClient\n",
    "client = MongoClient()\n",
    "db = client.userdata.users"
   ]
  },
  {
   "cell_type": "code",
   "execution_count": 14,
   "metadata": {},
   "outputs": [
    {
     "data": {
      "text/plain": [
       "<pymongo.results.InsertManyResult at 0x213791e08c8>"
      ]
     },
     "execution_count": 14,
     "metadata": {},
     "output_type": "execute_result"
    }
   ],
   "source": [
    "# ['John Doe', '17/52HA001', 'Computer Science', '2021']\n",
    "# ['Jane Doe', '17/52HA002', 'Computer Science', '2021']\n",
    "# ['Jim Doe', '17/52HA003', 'Computer Science', '2021']\n",
    "# ['Juliet Doe', '17/52HA004', 'Computer Science', '2021']\n",
    "# ['Tim Cook', '17/52HA005', 'Computer Science', '2021']\n",
    "# ['Tom Hanks', '17/52HA006', 'Computer Science', '2021']\n",
    "# ['Amy Tyler', '17/52HA007', 'Computer Science', '2021']\n",
    "# ['Rob Banks', '17/52HA008', 'Computer Science', '2021']\n",
    "user2 = ({\n",
    "    \"name\": \"Jane Doe\",\n",
    "    \"Matric No\": \"17/52HA002\",\n",
    "    \"Course\": \"Computer Science\",\n",
    "    \"Year\": \"2021\"\n",
    "})\n",
    "user3 = ({\n",
    "    \"name\": \"Jim Doe\",\n",
    "    \"Matric No\": \"17/52HA003\",\n",
    "    \"Course\": \"Computer Science\",\n",
    "    \"Year\": \"2021\"\n",
    "})\n",
    "user4 = ({\n",
    "    \"name\": \"Juliet Doe\",\n",
    "    \"Matric No\": \"17/52HA004\",\n",
    "    \"Course\": \"Computer Science\",\n",
    "    \"Year\": \"2021\"\n",
    "})\n",
    "user5 = ({\n",
    "    \"name\": \"Tim Cook\",\n",
    "    \"Matric No\": \"17/52HA005\",\n",
    "    \"Course\": \"Computer Science\",\n",
    "    \"Year\": \"2021\"\n",
    "})\n",
    "user6 = ({\n",
    "    \"name\": \"Tom Hanks\",\n",
    "    \"Matric No\": \"17/52HA006\",\n",
    "    \"Course\": \"Computer Science\",\n",
    "    \"Year\": \"2021\"\n",
    "})\n",
    "user7 = ({\n",
    "    \"name\": \"Amy Tyler\",\n",
    "    \"Matric No\": \"17/52HA007\",\n",
    "    \"Course\": \"Computer Science\",\n",
    "    \"Year\": \"2021\"\n",
    "})\n",
    "user8 = ({\n",
    "    \"name\": \"Rob Banks\",\n",
    "    \"Matric No\": \"17/52HA008\",\n",
    "    \"Course\": \"Computer Science\",\n",
    "    \"Year\": \"2021\"\n",
    "})\n",
    "\n",
    "db.insert_many([user2,user3,user4,user5,user6,user7,user8])"
   ]
  },
  {
   "cell_type": "code",
   "execution_count": 10,
   "metadata": {
    "collapsed": true
   },
   "outputs": [],
   "source": [
    "x = db.find({'Matric No' : '17/52HA009'})\n",
    "for a in x:\n",
    "#     print(a)\n",
    "    print(a['Hash'])"
   ]
  },
  {
   "cell_type": "code",
   "execution_count": 73,
   "metadata": {},
   "outputs": [
    {
     "data": {
      "text/plain": [
       "<pymongo.results.InsertOneResult at 0x213792d3288>"
      ]
     },
     "execution_count": 73,
     "metadata": {},
     "output_type": "execute_result"
    }
   ],
   "source": [
    "hasH = '98934dde04fd10882e5a6a1fbd02816134fc79b1ab741ec0027c867bf0bcd371'\n",
    "newuser = ({\n",
    "    \"name\": \"Rob Banks\",\n",
    "    \"Matric No\": \"17/52HA009\",\n",
    "    \"Course\": \"Computer Science\",\n",
    "    \"Year\": \"2021\",\n",
    "    \"Hash\": hasH\n",
    "})\n",
    "db.insert_one(newuser)"
   ]
  },
  {
   "cell_type": "code",
   "execution_count": 45,
   "metadata": {},
   "outputs": [
    {
     "name": "stdout",
     "output_type": "stream",
     "text": [
      "445  documents deleted.\n"
     ]
    }
   ],
   "source": [
    "import pymongo\n",
    "\n",
    "myclient = pymongo.MongoClient(\"mongodb://localhost:27017/\")\n",
    "mydb = myclient[\"userdata\"]\n",
    "mycol = mydb[\"users\"]\n",
    "\n",
    "x = mycol.delete_many({})\n",
    "\n",
    "print(x.deleted_count, \" documents deleted.\")"
   ]
  },
  {
   "cell_type": "code",
   "execution_count": 6,
   "metadata": {},
   "outputs": [
    {
     "name": "stdout",
     "output_type": "stream",
     "text": [
      "{'_id': ObjectId('61cceb5371ae9c117b052ad3'), 'name': 'John Doe', 'Matric No': '17/52HA001', 'Course': 'Computer Science', 'Year': '2021', 'Hash': '8824836de2f2d45f00bac5f1d8a76186dd002ea0120ec2df155a16a39a7b24bc'}\n",
      "{'_id': ObjectId('61cceb5371ae9c117b052ad4'), 'name': 'Jane Doe', 'Matric No': '17/52HA002', 'Course': 'Computer Science', 'Year': '2021', 'Hash': '50a8377e4026dc9af9be18311d97b4a10e119b96c2713e15869d6c55086e9026'}\n",
      "{'_id': ObjectId('61cceb5371ae9c117b052ad5'), 'name': 'Jim Doe', 'Matric No': '17/52HA003', 'Course': 'Computer Science', 'Year': '2021', 'Hash': '6c5f8304afec0e7d482b4558ec2910eb1c74fa813a48d16e13a09d4f9c4a831a'}\n",
      "{'_id': ObjectId('61cceb5371ae9c117b052ad6'), 'name': 'Juliet Doe', 'Matric No': '17/52HA004', 'Course': 'Computer Science', 'Year': '2021', 'Hash': 'cc802c8bd7375cb96d640d4dfd97e579e4b20e7861d7ced82b40a9cef559e66d'}\n",
      "{'_id': ObjectId('61cceb5371ae9c117b052ad7'), 'name': 'Tim Cook', 'Matric No': '17/52HA005', 'Course': 'Computer Science', 'Year': '2021', 'Hash': '8ce9e8ade69defdda67d246c78f65a74d99a6d5fe71d449f7defdb33985b8f5f'}\n",
      "{'_id': ObjectId('61cceb5371ae9c117b052ad8'), 'name': 'Tom Hanks', 'Matric No': '17/52HA006', 'Course': 'Computer Science', 'Year': '2021', 'Hash': '9b793776bc7fed38c66921b83515a6d175889265e265aa0df80163ba685fcb53'}\n",
      "{'_id': ObjectId('61cceb5371ae9c117b052ad9'), 'name': 'Amy Tyler', 'Matric No': '17/52HA007', 'Course': 'Computer Science', 'Year': '2021', 'Hash': 'daa078377e5d746f6d8d80fc23b4e10f6de76f8d766ab829e77a769567bf9b95'}\n",
      "{'_id': ObjectId('61cceb5371ae9c117b052ada'), 'name': 'Rob Banks', 'Matric No': '17/52HA008', 'Course': 'Computer Science', 'Year': '2021', 'Hash': '98934dde04fd10882e5a6a1fbd02816134fc79b1ab741ec0027c867bf0bcd371'}\n",
      "{'_id': ObjectId('61cceb5471ae9c117b052adb'), 'name': 'Patrick Jones', 'Matric No': '17/52HA009', 'Course': 'Computer Science', 'Year': '2021', 'Hash': '34ae65586749c77d5843dcd525382df846216895545eb420c355c18427f651e7'}\n",
      "{'_id': ObjectId('61cceb5471ae9c117b052adc'), 'name': 'Piper Jane', 'Matric No': '17/52HA010', 'Course': 'Computer Science', 'Year': '2021', 'Hash': 'f244cfb3301a11a539686e59aa9698d05bcde6b7048d8bba210d6599d63cd7de'}\n",
      "{'_id': ObjectId('61cceb5471ae9c117b052add'), 'name': 'Tom Ford', 'Matric No': '17/52HA011', 'Course': 'Computer Science', 'Year': '2021', 'Hash': 'd08d536a1b21c977b34c7819fe9ce757d4afee24ec0962892c77e7381b6d8cbe'}\n",
      "{'_id': ObjectId('61cceb5471ae9c117b052ade'), 'name': 'Juliet Doe', 'Matric No': '17/52HA012', 'Course': 'Computer Science', 'Year': '2021', 'Hash': '30407a9605b147c77e26a40e5f2cd1563093964d42b92ee70c294e7e544a0199'}\n",
      "{'_id': ObjectId('61cceb5471ae9c117b052adf'), 'name': 'Rob Hanks', 'Matric No': '17/52HA013', 'Course': 'Computer Science', 'Year': '2021', 'Hash': 'cd8b7da084d1b2bc0dec02957d44a88f7bbad10d2615032da7d3496b4c148295'}\n",
      "{'_id': ObjectId('61cceb5471ae9c117b052ae0'), 'name': 'Tom Cooks', 'Matric No': '17/52HA014', 'Course': 'Computer Science', 'Year': '2021', 'Hash': '7a98f74d75b90365c26e2273da226b210c28d7a716a851b5c6c67bd496784214'}\n",
      "{'_id': ObjectId('61cceb5471ae9c117b052ae1'), 'name': 'Bree Tyler', 'Matric No': '17/52HA015', 'Course': 'Computer Science', 'Year': '2021', 'Hash': '72d3b9477616ef470be73db18b022a7947b56e06d17fdd1ea7128538ddd15751'}\n",
      "{'_id': ObjectId('61cceb5471ae9c117b052ae2'), 'name': 'James Banks', 'Matric No': '17/52HA016', 'Course': 'Computer Science', 'Year': '2021', 'Hash': '3624ca1401aff474c3abf1f31ed0bfc45440b703081b74bd8366173bb6a6dc4a'}\n",
      "{'_id': ObjectId('61cceb5671ae9c117b052ae3'), 'name': 'John Timothy', 'Matric No': '17/52HA017', 'Course': 'Computer Science', 'Year': '2021', 'Hash': '3519ed844a73776ce04def650b93b5afcc99c3b72e09d8c74cd4c03bd6eb71af'}\n",
      "{'_id': ObjectId('61cceb5671ae9c117b052ae4'), 'name': 'Jane Cooper', 'Matric No': '17/52HA018', 'Course': 'Computer Science', 'Year': '2021', 'Hash': '5a6f7e7b2cd8163429b89cec2afee5e73ea3a16a7d9985f5498efc7d38213612'}\n",
      "{'_id': ObjectId('61cceb5671ae9c117b052ae5'), 'name': 'Sheldon Caty', 'Matric No': '17/52HA019', 'Course': 'Computer Science', 'Year': '2021', 'Hash': '297cd9720f35b208f2816ba13cac9706b7cdc56612d7737cd6e9be7490933ab2'}\n",
      "{'_id': ObjectId('61cceb5671ae9c117b052ae6'), 'name': 'Juliet Cooper', 'Matric No': '17/52HA020', 'Course': 'Computer Science', 'Year': '2021', 'Hash': '4e1d08f2173efdb61bd602e69b4589908d9aafef771f3d6ec2d85fd815d55603'}\n",
      "{'_id': ObjectId('61cceb5671ae9c117b052ae7'), 'name': 'Amy Cooper', 'Matric No': '17/52HA021', 'Course': 'Computer Science', 'Year': '2021', 'Hash': '23596ed4ad34a427b62bfe9789257dc8deb0204c8cf52e65448cabfca51f59b8'}\n",
      "{'_id': ObjectId('61cceb5671ae9c117b052ae8'), 'name': 'Tom Leonard', 'Matric No': '17/52HA022', 'Course': 'Computer Science', 'Year': '2021', 'Hash': '5659c0cc7fe58b553f4183a989e878cc6ed37a359dd291edd2ac3933591e7e90'}\n",
      "{'_id': ObjectId('61cceb5671ae9c117b052ae9'), 'name': 'Howard Tyler', 'Matric No': '17/52HA023', 'Course': 'Computer Science', 'Year': '2021', 'Hash': '469d1b5c5f464ca87142f088e971386dc2d2d3de569a05d9b64c8549aeea0d50'}\n",
      "{'_id': ObjectId('61cceb5671ae9c117b052aea'), 'name': 'Jim Banks', 'Matric No': '17/52HA024', 'Course': 'Computer Science', 'Year': '2021', 'Hash': 'ce51fb3f3cd5ee10d3ab1a774f13f55f8f69fcc3773c0fdd1a0c1d78c3a3633a'}\n",
      "{'_id': ObjectId('61cceb5771ae9c117b052aeb'), 'name': 'Jake Dike', 'Matric No': '17/52HA025', 'Course': 'Computer Science', 'Year': '2021', 'Hash': 'a4961027c0c562678d5e98589587b17995cb9c98c78ebb04e33702ada7e1038c'}\n",
      "{'_id': ObjectId('61cceb5771ae9c117b052aec'), 'name': 'Jane Calvary', 'Matric No': '17/52HA026', 'Course': 'Computer Science', 'Year': '2021', 'Hash': '975fa6ff737138776317cc9458391b8c549678fd2b298cabd7d48ce5a83bc8b0'}\n",
      "{'_id': ObjectId('61cceb5771ae9c117b052aed'), 'name': 'John Jones', 'Matric No': '17/52HA027', 'Course': 'Computer Science', 'Year': '2021', 'Hash': '8a7cb68a74f1733aae027a52fa793e3d8bf305ac27a1196e204872f7697f5eb7'}\n",
      "{'_id': ObjectId('61cceb5771ae9c117b052aee'), 'name': 'Juliet Cartrt', 'Matric No': '17/52HA028', 'Course': 'Computer Science', 'Year': '2021', 'Hash': '8376a4ed4482481fd10bb27f59666b809f6dfabb99e49da35e842e2f7c5b106e'}\n",
      "{'_id': ObjectId('61cceb5771ae9c117b052aef'), 'name': 'Dwayne Carter', 'Matric No': '17/52HA029', 'Course': 'Computer Science', 'Year': '2021', 'Hash': '802baddd54c6deffc5f70de5e75f6a9c4bdad33b8afb9f2aa9816b62ea7527cb'}\n",
      "{'_id': ObjectId('61cceb5771ae9c117b052af0'), 'name': 'Shawn Hanks', 'Matric No': '17/52HA030', 'Course': 'Computer Science', 'Year': '2021', 'Hash': 'ee2477b81a6c79303b10fd1c913a6617225c44adfcb04a9d50447a173e191f95'}\n",
      "{'_id': ObjectId('61cceb5771ae9c117b052af1'), 'name': 'Amy Carter', 'Matric No': '17/52HA031', 'Course': 'Computer Science', 'Year': '2021', 'Hash': '8de7bb905c260c83e56248979708d5a6daa8ac274180975809204aa168726f1b'}\n",
      "{'_id': ObjectId('61cceb5771ae9c117b052af2'), 'name': 'Carter Deems', 'Matric No': '17/52HA032', 'Course': 'Computer Science', 'Year': '2021', 'Hash': '40a8294fbbfecccf22c401cb344d23cbb2914ca1d72b43532b519f6ffb293ef4'}\n",
      "{'_id': ObjectId('61cceb5871ae9c117b052af3'), 'name': 'Nick Fury', 'Matric No': '17/52HA033', 'Course': 'Computer Science', 'Year': '2021', 'Hash': 'ee4dd696b371ee4757409a1c12609c2a09a81133baf0e6a23a24d2f27e3a2c9b'}\n",
      "{'_id': ObjectId('61cceb5871ae9c117b052af4'), 'name': 'Dame Stark', 'Matric No': '17/52HA034', 'Course': 'Computer Science', 'Year': '2021', 'Hash': 'cf68a1ffc590514156b4ebce8de8f5fe1b0753cd0887d1d3420012e789337959'}\n",
      "{'_id': ObjectId('61cceb5871ae9c117b052af5'), 'name': 'Peter Parker', 'Matric No': '17/52HA035', 'Course': 'Computer Science', 'Year': '2021', 'Hash': '09749a2b140446028accadb09c8600cb49e50364a111b109b961b28521493231'}\n",
      "{'_id': ObjectId('61cceb5871ae9c117b052af6'), 'name': 'Juliet Cox', 'Matric No': '17/52HA036', 'Course': 'Computer Science', 'Year': '2021', 'Hash': 'f3bd58dcb866682005cf908ab279bfdb1653ccfe8c3e2978c8ce23d0dcec55e4'}\n",
      "{'_id': ObjectId('61cceb5871ae9c117b052af7'), 'name': 'Dewey Carter', 'Matric No': '17/52HA037', 'Course': 'Computer Science', 'Year': '2021', 'Hash': 'df435908fb156c4eade6ae8259772f7fc9e6f7f6376de088d4b8b3e0c4cf61d0'}\n",
      "{'_id': ObjectId('61cceb5871ae9c117b052af8'), 'name': 'Tom Jakes', 'Matric No': '17/52HA038', 'Course': 'Computer Science', 'Year': '2021', 'Hash': 'd14304df4e0c45835c0a341b68041dc70efd3f7bea009b053609e7d7f7873375'}\n",
      "{'_id': ObjectId('61cceb5871ae9c117b052af9'), 'name': 'Mia Tyler', 'Matric No': '17/52HA039', 'Course': 'Computer Science', 'Year': '2021', 'Hash': '86b749cb4c7b4e9a3587ed728ad38b13a80d6e4fdf6f8c6ca503cc9d48616d91'}\n",
      "{'_id': ObjectId('61cceb5871ae9c117b052afa'), 'name': 'Mai Banks', 'Matric No': '17/52HA040', 'Course': 'Computer Science', 'Year': '2021', 'Hash': 'f3a37ebee105f6a85d3c4a96f4a8706584c59d760a2a3ae4ff339900c0044b11'}\n",
      "{'_id': ObjectId('61cceb5971ae9c117b052afb'), 'name': 'Jimmy Fowler', 'Matric No': '17/52HA041', 'Course': 'Computer Science', 'Year': '2021', 'Hash': '339dc31f836454ed09835737227a854860c51d8fea5f1ca5779ab3ad70eba257'}\n",
      "{'_id': ObjectId('61cceb5971ae9c117b052afc'), 'name': 'Harry Kane', 'Matric No': '17/52HA042', 'Course': 'Computer Science', 'Year': '2021', 'Hash': '68e88e36a5f9158c87c4dcc0f3056b96441ac1573e34cbd8ed817201a483d6b1'}\n",
      "{'_id': ObjectId('61cceb5971ae9c117b052afd'), 'name': 'Anthony Claw', 'Matric No': '17/52HA043', 'Course': 'Computer Science', 'Year': '2021', 'Hash': 'a94e557713abf389a776eae3f81887216945aa4bf469ab2efcd35b72fa6b371f'}\n",
      "{'_id': ObjectId('61cceb5971ae9c117b052afe'), 'name': 'Jake Doe', 'Matric No': '17/52HA044', 'Course': 'Computer Science', 'Year': '2021', 'Hash': 'b1ef9829e6af3411df6953999af13e05901fa35bd0bab7d12ecbd508808a9f0a'}\n",
      "{'_id': ObjectId('61cceb5971ae9c117b052aff'), 'name': 'Oliver Cook', 'Matric No': '17/52HA045', 'Course': 'Computer Science', 'Year': '2021', 'Hash': '531222a13c13263e61530a331e75903b582196c7d5268c025ca6847d00ccd811'}\n",
      "{'_id': ObjectId('61cceb5971ae9c117b052b00'), 'name': 'Stormi Shane', 'Matric No': '17/52HA046', 'Course': 'Computer Science', 'Year': '2021', 'Hash': '7fc83e5ecd9d8391ec4fbd418ff064c3c0c77962f22886e0363893844e11339c'}\n",
      "{'_id': ObjectId('61cceb5971ae9c117b052b01'), 'name': 'Curt Cobain', 'Matric No': '17/52HA047', 'Course': 'Computer Science', 'Year': '2021', 'Hash': 'f04d031721b3a8e73cc29113a53fc0c64ecdd3a881a6fa7cf77e1552c26b2122'}\n",
      "{'_id': ObjectId('61cceb5971ae9c117b052b02'), 'name': 'Ray Davidson', 'Matric No': '17/52HA048', 'Course': 'Computer Science', 'Year': '2021', 'Hash': '25e9e6f70536341ac33a52829b60fbfab1057de4b3796eb1f30896f11db5fc8e'}\n",
      "{'_id': ObjectId('61cceb5a71ae9c117b052b03'), 'name': 'Mike Manchester', 'Matric No': '17/52HA049', 'Course': 'Computer Science', 'Year': '2021', 'Hash': '337e2c459a9da163692f31304a58a5d00cd3090347040948d1b3d4000007e279'}\n",
      "{'_id': ObjectId('61cceb5a71ae9c117b052b04'), 'name': 'Henry Moon', 'Matric No': '17/52HA050', 'Course': 'Computer Science', 'Year': '2021', 'Hash': 'd90be8cd311517639d1850b3a2acb8aa4fe04deba435fa2380e2222fb4db15a4'}\n",
      "{'_id': ObjectId('61cceb5a71ae9c117b052b05'), 'name': 'Ken Sailor', 'Matric No': '17/52HA052', 'Course': 'Computer Science', 'Year': '2021', 'Hash': '1098af00d191c2eebaec45d6e7da25f35d85bcfe7f2dc3b2d25f5cf5e9f2f213'}\n",
      "{'_id': ObjectId('61cceb5a71ae9c117b052b06'), 'name': 'Junior Doe', 'Matric No': '17/52HA053', 'Course': 'Computer Science', 'Year': '2021', 'Hash': '9d5c5d93329ca220cc804e3092d47c45aae7cca683d188c3630129dde7102618'}\n",
      "{'_id': ObjectId('61cceb5a71ae9c117b052b07'), 'name': 'Will Ferrel', 'Matric No': '17/52HA054', 'Course': 'Computer Science', 'Year': '2021', 'Hash': '5062cd447ede65725136f6e3a4662199f61198fcf55a621c938b4cce30169db2'}\n",
      "{'_id': ObjectId('61cceb5a71ae9c117b052b08'), 'name': 'Ryan Bing', 'Matric No': '17/52HA054', 'Course': 'Computer Science', 'Year': '2021', 'Hash': '3faebc85ae8c751c216d438f4d1da491cfa76bcdffdf022b68ce723850a46be2'}\n",
      "{'_id': ObjectId('61cceb5a71ae9c117b052b09'), 'name': 'Sarah Bing', 'Matric No': '17/52HA055', 'Course': 'Computer Science', 'Year': '2021', 'Hash': 'f2b7939deb662d9527adfea3b466eac45202bdc63096e91aaeb6381f385cacf0'}\n",
      "{'_id': ObjectId('61cceb5a71ae9c117b052b0a'), 'name': 'Rob Mina', 'Matric No': '17/52HA056', 'Course': 'Computer Science', 'Year': '2021', 'Hash': '893065e0fd8c238e3a9ffdc12678c5ba0c58609b7f4eea484d3efca37ef931e1'}\n",
      "{'_id': ObjectId('61cceb5b71ae9c117b052b0b'), 'name': 'Elda Palumbo', 'Matric No': '17/52HA057', 'Course': 'Computer Science', 'Year': '2021', 'Hash': 'e2650cda5dbe320e689d7346bc9d71d47a7c0be771457116d8470f05b9576726'}\n",
      "{'_id': ObjectId('61cceb5b71ae9c117b052b0c'), 'name': 'Pacifico Giordano', 'Matric No': '17/52HA058', 'Course': 'Computer Science', 'Year': '2021', 'Hash': 'd280bbd93d09aec1ddd612db952beb87ceb59fcec3fec9c969e741981879a5ea'}\n",
      "{'_id': ObjectId('61cceb5b71ae9c117b052b0d'), 'name': 'Yago Amato', 'Matric No': '17/52HA059', 'Course': 'Computer Science', 'Year': '2021', 'Hash': 'cca0ba3abb759f8f95a8c829744a7a311447058b6e639c333c2c3cf3fdb77e73'}\n",
      "{'_id': ObjectId('61cceb5b71ae9c117b052b0e'), 'name': 'Eustachio Messina', 'Matric No': '17/52HA060', 'Course': 'Computer Science', 'Year': '2021', 'Hash': 'c9d088f3c960e10c9b83d07f765ae12908907555b1c49d5e13523de0b62fabfd'}\n",
      "{'_id': ObjectId('61cceb5b71ae9c117b052b0f'), 'name': 'Violante Lombardo', 'Matric No': '17/52HA060', 'Course': 'Computer Science', 'Year': '2021', 'Hash': '87e25e209a2ea5d7a8a14f0683db357047f94c4b07f9731a2d822683651b9d74'}\n",
      "{'_id': ObjectId('61cceb5b71ae9c117b052b10'), 'name': 'Costanzo Costa', 'Matric No': '17/52HA061', 'Course': 'Computer Science', 'Year': '2021', 'Hash': '185879ab477cf87425af5cc90bc478af04642706e28145100b62b074130ad441'}\n",
      "{'_id': ObjectId('61cceb5b71ae9c117b052b11'), 'name': 'Nazzareno Barbieri', 'Matric No': '17/52HA062', 'Course': 'Computer Science', 'Year': '2021', 'Hash': 'fe20d4791df09b726ba8f1a8d1b6aa2fa5d0d8807c3c4e1479b20e36e4a728c9'}\n",
      "{'_id': ObjectId('61cceb5b71ae9c117b052b12'), 'name': 'Max Coppola', 'Matric No': '17/52HA063', 'Course': 'Computer Science', 'Year': '2021', 'Hash': '2dfb9236bb281778500ee7474767fbba2c16bddc8a2669e5003a8f0762604e89'}\n",
      "{'_id': ObjectId('61cceb5c71ae9c117b052b13'), 'name': 'Leslie Moreno', 'Matric No': '17/52HA064', 'Course': 'Computer Science', 'Year': '2021', 'Hash': '04633ab2c1d69f502316a485aa38d24700b888ebfef4192b9503870c484d15b0'}\n",
      "{'_id': ObjectId('61cceb5c71ae9c117b052b14'), 'name': 'Ashley Castillo', 'Matric No': '17/52HA065', 'Course': 'Computer Science', 'Year': '2021', 'Hash': '1ea1dfee2a45c0e0e5bb6a0185aad97c6a688a490a5c360a5e6e5530a99983ee'}\n",
      "{'_id': ObjectId('61cceb5c71ae9c117b052b15'), 'name': 'Kristen Turner', 'Matric No': '17/52HA066', 'Course': 'Computer Science', 'Year': '2021', 'Hash': 'e46fad5c3af49ab59a6dd88f4dc387347a33e08caf71472769420425d2727511'}\n",
      "{'_id': ObjectId('61cceb5c71ae9c117b052b16'), 'name': 'Juliet Doe', 'Matric No': '17/52HA067', 'Course': 'Computer Science', 'Year': '2021', 'Hash': 'c49fb18544ef5730dcb6ddab3f18338777787381936d49b45d19104fb24797e1'}\n",
      "{'_id': ObjectId('61cceb5c71ae9c117b052b17'), 'name': 'Marcantonio Galuppi', 'Matric No': '17/52HA068', 'Course': 'Computer Science', 'Year': '2021', 'Hash': '51b6873a0e2ed45aa9253c7d456b896989202f8fcf243291dba3b455f43825db'}\n",
      "{'_id': ObjectId('61cceb5c71ae9c117b052b18'), 'name': 'Emma Williams', 'Matric No': '17/52HA069', 'Course': 'Computer Science', 'Year': '2021', 'Hash': '8dd1cc00a38e6a6311f30f397dff18f01307ef27fa60740c8613e65a4602a319'}\n",
      "{'_id': ObjectId('61cceb5c71ae9c117b052b19'), 'name': 'Martha Davis', 'Matric No': '17/52HA070', 'Course': 'Computer Science', 'Year': '2021', 'Hash': 'e6a461b0a454790adf1b47a6abd7e6d843f56b2eac2103d143c0d05ecf750ac9'}\n",
      "{'_id': ObjectId('61cceb5c71ae9c117b052b1a'), 'name': 'Emma Banks', 'Matric No': '17/52HA071', 'Course': 'Computer Science', 'Year': '2021', 'Hash': 'c0f72e83649784986bcc48ea99d29332d034dcf6e86d6950299c0b808f873fbb'}\n",
      "{'_id': ObjectId('61cceb5e71ae9c117b052b1b'), 'name': 'Ashley Doe', 'Matric No': '17/52HA072', 'Course': 'Computer Science', 'Year': '2021', 'Hash': 'abe8dbe6d7b0e2ac85cb5f4f8cff8d1e525c4d224137cfa58ce5fb2cd872f581'}\n",
      "{'_id': ObjectId('61cceb5e71ae9c117b052b1c'), 'name': 'Emma Winks', 'Matric No': '17/52HA073', 'Course': 'Computer Science', 'Year': '2021', 'Hash': 'a57048181e3e2a66c6c405149f209b94f8015d8cca42d0079284457996cd2dc9'}\n",
      "{'_id': ObjectId('61cceb5e71ae9c117b052b1d'), 'name': 'Margaret Boehm', 'Matric No': '17/52HA074', 'Course': 'Computer Science', 'Year': '2021', 'Hash': 'dc4c0a7bda90200c81fd8c7902eea6493e6f06949e3a8d18c2e6bc06709792a1'}\n",
      "{'_id': ObjectId('61cceb5e71ae9c117b052b1e'), 'name': 'Juliet Gullapari', 'Matric No': '17/52HA075', 'Course': 'Computer Science', 'Year': '2021', 'Hash': '83e2a28a1121821dafdc8f97299ec927418f3b3cf608bc2be40bcf4b9eb7eac1'}\n",
      "{'_id': ObjectId('61cceb5e71ae9c117b052b1f'), 'name': 'Tim Turner', 'Matric No': '17/52HA076', 'Course': 'Computer Science', 'Year': '2021', 'Hash': 'f598b7dd5d1426baf0e4781f0d4b95738a11b0890729c2a3a1ee6f4478890358'}\n",
      "{'_id': ObjectId('61cceb5e71ae9c117b052b20'), 'name': 'Thomas Davison', 'Matric No': '17/52HA077', 'Course': 'Computer Science', 'Year': '2021', 'Hash': 'd9cff22ef08a75a52d8b1baf4a4e0eed43b322712a61002b479e0a737d062200'}\n",
      "{'_id': ObjectId('61cceb5e71ae9c117b052b21'), 'name': 'Tony Stark', 'Matric No': '17/52HA078', 'Course': 'Computer Science', 'Year': '2021', 'Hash': '67aca51ef17c0b0e07ef0fd606aad0a838def6c81102e6adbda618e0fc2ade24'}\n",
      "{'_id': ObjectId('61cceb5e71ae9c117b052b22'), 'name': 'Bruce Banks', 'Matric No': '17/52HA079', 'Course': 'Computer Science', 'Year': '2021', 'Hash': '783eb79142be537288faa7b7c6d9f761161cf7ca9121ebbc8c0f8cee656fee92'}\n",
      "{'_id': ObjectId('61cceb5f71ae9c117b052b23'), 'name': 'Wayne Doe', 'Matric No': '17/52HA080', 'Course': 'Computer Science', 'Year': '2021', 'Hash': '41bbe0e92b41aa725b8725095fc0baed7daf22e02d5e2f3ebe2ff288d534a535'}\n",
      "{'_id': ObjectId('61cceb5f71ae9c117b052b24'), 'name': 'Courtney Kingsley', 'Matric No': '17/52HA081', 'Course': 'Computer Science', 'Year': '2021', 'Hash': 'f7db4b9ddd4c11c377b3b3d606c5d90e4800f4c5336c833b573c8bf1f1f05981'}\n",
      "{'_id': ObjectId('61cceb5f71ae9c117b052b25'), 'name': 'Jim Fallon', 'Matric No': '17/52HA082', 'Course': 'Computer Science', 'Year': '2021', 'Hash': '21f40a5000d0f8248f4a73810f5e56808bb6df95fef4e0adc23aac162ada7cf9'}\n",
      "{'_id': ObjectId('61cceb5f71ae9c117b052b26'), 'name': 'Johnatan Doe', 'Matric No': '17/52HA083', 'Course': 'Computer Science', 'Year': '2021', 'Hash': 'ae93ddb7ef15aea986041b504a94d80aebd58905eb0f872a9e8b12bd3ccba424'}\n",
      "{'_id': ObjectId('61cceb5f71ae9c117b052b27'), 'name': 'Ahmed Rice', 'Matric No': '17/52HA084', 'Course': 'Computer Science', 'Year': '2021', 'Hash': '398c4893c84e96d939672827bfd5bf2c84b2beb0c1a0983ab2f66ea03724f0c3'}\n",
      "{'_id': ObjectId('61cceb5f71ae9c117b052b28'), 'name': 'Avery Tinks', 'Matric No': '17/52HA085', 'Course': 'Computer Science', 'Year': '2021', 'Hash': '59939ffda3c34ae822ef4bce497832dbc3e63d035dd55b84bd4afd03d785aa15'}\n",
      "{'_id': ObjectId('61cceb5f71ae9c117b052b29'), 'name': 'Ace Chad', 'Matric No': '17/52HA086', 'Course': 'Computer Science', 'Year': '2021', 'Hash': '236380f8e17ff105756e1098d11e4a446004afd8afe853128e6df9a04aabedfc'}\n",
      "{'_id': ObjectId('61cceb5f71ae9c117b052b2a'), 'name': 'Bree Bella', 'Matric No': '17/52HA087', 'Course': 'Computer Science', 'Year': '2021', 'Hash': '5c959461f3bfb8ea763f35dd6a757ab2d94753563177227e0ecb7aba60170ef5'}\n",
      "{'_id': ObjectId('61cceb6071ae9c117b052b2b'), 'name': 'Maya Daniels', 'Matric No': '17/52HA088', 'Course': 'Computer Science', 'Year': '2021', 'Hash': 'b557f3a7655fa8977b0497dcbf00245486fc9ad8d292559dc324ea9b583b93e7'}\n",
      "{'_id': ObjectId('61cceb6071ae9c117b052b2c'), 'name': 'Leonard Thing', 'Matric No': '17/52HA089', 'Course': 'Computer Science', 'Year': '2021', 'Hash': 'c5b097abfefeae0b79819202bbc03fd81d9b8e8da226b7a867e13d399b2b9e1d'}\n",
      "{'_id': ObjectId('61cceb6071ae9c117b052b2d'), 'name': 'Howard Keith', 'Matric No': '17/52HA090', 'Course': 'Computer Science', 'Year': '2021', 'Hash': '88bad22a1b9c8c4292782611bdee4010401c63aaec70d4c999dd51b3d28311c6'}\n",
      "{'_id': ObjectId('61cceb6071ae9c117b052b2e'), 'name': 'Juliet Bella', 'Matric No': '17/52HA091', 'Course': 'Computer Science', 'Year': '2021', 'Hash': '0505166930b93db42b05a0027a38224ffb118cc1aea6e6456f4ac4337fba7b69'}\n",
      "{'_id': ObjectId('61cceb6071ae9c117b052b2f'), 'name': 'Ace Chase', 'Matric No': '17/52HA092', 'Course': 'Computer Science', 'Year': '2021', 'Hash': '4c84fcab6fa7c95ec4bb367da253f3e4e7d9ebe83b660b44e5153fc57cef1dd3'}\n",
      "{'_id': ObjectId('61cceb6071ae9c117b052b30'), 'name': 'King Robinson', 'Matric No': '17/52HA093', 'Course': 'Computer Science', 'Year': '2021', 'Hash': '12c2d75ccca7ce586c8a743d482f56cb7a0229ecfd2831b1fadfdc1c7fe33de9'}\n",
      "{'_id': ObjectId('61cceb6071ae9c117b052b31'), 'name': 'Judith Tyler', 'Matric No': '17/52HA094', 'Course': 'Computer Science', 'Year': '2021', 'Hash': '1824925daa1909b32038828535bf269263c264881933663256a767df86229e02'}\n",
      "{'_id': ObjectId('61cceb6071ae9c117b052b32'), 'name': 'Phoebe Banks', 'Matric No': '17/52HA095', 'Course': 'Computer Science', 'Year': '2021', 'Hash': '9a9d32b2e3b6d6900bd8d1a6f6dfa7977e7f126262cb8244e27d5690de636199'}\n",
      "{'_id': ObjectId('61cceb6171ae9c117b052b33'), 'name': 'Channing Doe', 'Matric No': '17/52HA096', 'Course': 'Computer Science', 'Year': '2021', 'Hash': 'e7e646ac49bd08e1ba97c1372e2b96e47197ad6b0b51f593f1f9d3dcd3ad8d9c'}\n",
      "{'_id': ObjectId('61cceb6171ae9c117b052b34'), 'name': 'Ilumi Docks', 'Matric No': '17/52HA097', 'Course': 'Computer Science', 'Year': '2021', 'Hash': '4b94a4a4340c3a2fee9f0fc6bfb93b716b57523fa00b51eab827e7d021aea3f5'}\n",
      "{'_id': ObjectId('61cceb6171ae9c117b052b35'), 'name': 'Sam Tent', 'Matric No': '17/52HA098', 'Course': 'Computer Science', 'Year': '2021', 'Hash': 'bfc2b693ed4778af1d6f0b0b8834d2dc0efa710726532c0bd8a3d424dfca6a65'}\n",
      "{'_id': ObjectId('61cceb6271ae9c117b052b36'), 'name': 'Brook Tent', 'Matric No': '17/52HA099', 'Course': 'Computer Science', 'Year': '2021', 'Hash': 'd1d688d2fe8539af1bf9cdd3b614066be8e093de0a1d5d5013e4043e977c4562'}\n",
      "{'_id': ObjectId('61cceb6271ae9c117b052b37'), 'name': 'Dennis Cook', 'Matric No': '17/52HA0100', 'Course': 'Computer Science', 'Year': '2021', 'Hash': 'ab1170fef05562d76579558773aa1357d338281567264e873a7956bb5c083534'}\n"
     ]
    }
   ],
   "source": [
    "for i in db.find({}):\n",
    "    print(i)"
   ]
  },
  {
   "cell_type": "code",
   "execution_count": null,
   "metadata": {
    "collapsed": true
   },
   "outputs": [],
   "source": []
  }
 ],
 "metadata": {
  "kernelspec": {
   "display_name": "Python 3",
   "language": "python",
   "name": "python3"
  },
  "language_info": {
   "codemirror_mode": {
    "name": "ipython",
    "version": 3
   },
   "file_extension": ".py",
   "mimetype": "text/x-python",
   "name": "python",
   "nbconvert_exporter": "python",
   "pygments_lexer": "ipython3",
   "version": "3.6.3"
  }
 },
 "nbformat": 4,
 "nbformat_minor": 2
}
